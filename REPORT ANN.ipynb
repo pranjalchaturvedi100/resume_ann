{
 "cells": [
  {
   "cell_type": "markdown",
   "id": "85d8c26c",
   "metadata": {},
   "source": [
    "# Report on Implementing a Basic Neural Network for Image Classification\n",
    "\n",
    "### The goal is to build a basic neural network that can classify images of handwritten digits from the MNIST                  dataset.\n",
    "\n",
    "* The MNIST dataset contains 70,000 training images of handwritten digits from zero to nine and 10,000 images for testing. So, the MNIST dataset has 10 different classes. The handwritten digits images are represented as a 28×28 matrix where each cell contains grayscale pixel value.\n",
    "\n",
    "* We first normalize the pixel values of grayscale images, e.g. rescale them to the range [0,1]. This involves first converting the data type from unsigned integers to floats, then dividing the pixel values by the maximum value.\n",
    "\n",
    "* As we're using TensorFlow, our data has to be in the form of Tensors. A Tensor is a way to represent information in numbers. A Tensor can be thought of as a combination of NumPy arrays, except with the special ability to be used on a GPU.\n",
    "\n",
    "* Feedforward is performed with the training set for calculating the hypothesis and then backpropagation is done in order to reduce the error between the layers. \n",
    "\n",
    "* Forward propagation with activation for a single layer: If the type of activation is sigmoid, it performs sigmoid activation function else performs relu activation function.\n",
    "\n",
    "\n",
    "1: Import the libraries(tensorflow, keras) and load the dataset(MNIST)\n",
    "\n",
    "2: Train the model & Evaluate the model\n",
    "\n",
    "3: Building different artificial neural network classifiers by varying these parameters.\n",
    "\n"
   ]
  },
  {
   "cell_type": "markdown",
   "id": "d67b1d92",
   "metadata": {},
   "source": [
    "<img src=\"x.png\" alt=\"Alternative text\" />"
   ]
  },
  {
   "cell_type": "markdown",
   "id": "8bda79ee",
   "metadata": {},
   "source": [
    "\n",
    "### By varying the number of Hidden Layers, both the model give more or less the same accuracy.\n",
    "* 97.14000225067139\n",
    "* 97.63000011444092\n",
    "### If the initial layers have more number of neurons than later then the model performs slightly better.\n",
    "* 94.72000002861023\n",
    "* 97.63000011444092\n",
    "### It is found that the models that have activation function as ReLu perform slightly better as compared to others.\n",
    "* 95.87000012397766\n",
    "* 97.63000011444092\n"
   ]
  },
  {
   "cell_type": "code",
   "execution_count": 5,
   "id": "08723fa0",
   "metadata": {},
   "outputs": [
    {
     "ename": "SyntaxError",
     "evalue": "invalid syntax (4216637139.py, line 1)",
     "output_type": "error",
     "traceback": [
      "\u001b[1;36m  Cell \u001b[1;32mIn[5], line 1\u001b[1;36m\u001b[0m\n\u001b[1;33m    Confusion Matrix :\u001b[0m\n\u001b[1;37m              ^\u001b[0m\n\u001b[1;31mSyntaxError\u001b[0m\u001b[1;31m:\u001b[0m invalid syntax\n"
     ]
    }
   ],
   "source": [
    "Confusion Matrix : \n",
    "       [[ 973,    1,    0,    0,    0,    1,    2,    1,    1,    1],\n",
    "       [   3, 1126,    1,    1,    0,    0,    1,    1,    2,    0],\n",
    "       [   8,    3,  993,    6,    4,    0,    1,   13,    3,    1],\n",
    "       [   1,    1,    2,  995,    2,    0,    0,    3,    4,    2],\n",
    "       [   4,    0,    2,    0,  961,    1,    4,    2,    1,    7],\n",
    "       [   3,    0,    0,   22,    2,  855,    2,    0,    6,    2],\n",
    "       [   7,    2,    2,    1,    5,    4,  936,    0,    1,    0],\n",
    "       [   3,    4,    5,    0,    1,    0,    0, 1009,    0,    6],\n",
    "       [   8,    4,    1,    6,    2,    4,    2,    5,  938,    4],\n",
    "       [   5,    5,    0,    9,   16,    4,    0,    4,    3,  963]],\n",
    "      "
   ]
  },
  {
   "cell_type": "code",
   "execution_count": null,
   "id": "229ca3da",
   "metadata": {},
   "outputs": [],
   "source": []
  }
 ],
 "metadata": {
  "kernelspec": {
   "display_name": "Python 3 (ipykernel)",
   "language": "python",
   "name": "python3"
  },
  "language_info": {
   "codemirror_mode": {
    "name": "ipython",
    "version": 3
   },
   "file_extension": ".py",
   "mimetype": "text/x-python",
   "name": "python",
   "nbconvert_exporter": "python",
   "pygments_lexer": "ipython3",
   "version": "3.10.9"
  }
 },
 "nbformat": 4,
 "nbformat_minor": 5
}
